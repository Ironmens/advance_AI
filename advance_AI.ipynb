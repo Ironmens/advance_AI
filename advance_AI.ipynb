{
  "cells": [
    {
      "cell_type": "code",
      "execution_count": null,
      "metadata": {
        "id": "8CtG-nrDxNXX"
      },
      "outputs": [],
      "source": [
        "## Git clone repo\n",
        "!git clone https://github.com/Ironmens/advance_AI.git\n",
        "%cd advance_AI"
      ]
    },
    {
      "cell_type": "code",
      "execution_count": null,
      "metadata": {
        "collapsed": true,
        "id": "moaYiT6M2RZr"
      },
      "outputs": [],
      "source": [
        "# Install environment\n",
        "!wget https://github.com/conda-forge/miniforge/releases/latest/download/Mambaforge-Linux-x86_64.sh\n",
        "!bash Mambaforge-Linux-x86_64.sh -b -f -p /usr/local\n",
        "!export PATH=/usr/local/bin/:$PATH\n",
        "!pip install torch==2.0.1 torchvision==0.15.2 torchaudio==2.0.2 --index-url https://download.pytorch.org/whl/cu118"
      ]
    },
    {
      "cell_type": "code",
      "source": [
        "# Visualization code\n",
        "!pip install timm einops albumentations matplotlib tensorboard jax accelerate\n",
        "!pip install diffusers ftfy madgrad openai-clip numpy transformers\n",
        "import matplotlib.pyplot as plt\n",
        "import os\n",
        "import cv2\n",
        "def plot_single_image(img_file_path, title):\n",
        "  # Load and display the image\n",
        "  img_bgr = cv2.imread(img_file_path)\n",
        "  img_rgb = cv2.cvtColor(img_bgr, cv2.COLOR_BGR2RGB)\n",
        "  plt.imshow(img_rgb)\n",
        "  plt.axis('off')  # Hide axes\n",
        "  plt.title(title)  # Set the title of the plot\n",
        "  plt.show()\n",
        "\n",
        "def visualize_output(input_img_file, output_dir):\n",
        "  item_dir = os.listdir(output_dir)[0]\n",
        "  item_res_dir = os.path.join(output_dir, item_dir, 'results')\n",
        "\n",
        "  final_output_file = os.path.join(item_res_dir, 'final_output.png')\n",
        "  plot_single_image(input_img_file, title='Input Image')\n",
        "  plot_single_image(final_output_file, title='Edited Image')\n",
        "\n",
        "plot_single_image('images/1.png', title='Input Image')"
      ],
      "metadata": {
        "id": "UqOMTazuqaU4"
      },
      "execution_count": null,
      "outputs": []
    },
    {
      "cell_type": "code",
      "source": [
        "# Set point_number as 6 and per_image_iteration as 7 for faster editing.\n",
        "!torchrun --nnodes=1 --nproc_per_node=1 train.py \\\n",
        "  --image_file_path images/1.png \\\n",
        "  --image_caption 'trees' \\\n",
        "  --editing_prompt 'a big tree with many flowers in the center' \\\n",
        "  --output_dir output/ \\\n",
        "  --draw_box \\\n",
        "  --lr 5e-3 \\\n",
        "  --max_window_size 15 \\\n",
        "  --per_image_iteration 7 \\\n",
        "  --epochs 1 \\\n",
        "  --num_workers 8 \\\n",
        "  --seed 42 \\\n",
        "  --pin_mem \\\n",
        "  --point_number 6 \\\n",
        "  --batch_size 1"
      ],
      "metadata": {
        "id": "Qjhy3jAwZ9Zw"
      },
      "execution_count": null,
      "outputs": []
    },
    {
      "cell_type": "code",
      "source": [
        "# Visualize the output\n",
        "print('Editing prompt:', 'a big tree with many flowers in the center')\n",
        "visualize_output('images/1.png', 'output')"
      ],
      "metadata": {
        "id": "v_4gmzDOzN98"
      },
      "execution_count": null,
      "outputs": []
    }
  ],
  "metadata": {
    "accelerator": "GPU",
    "colab": {
      "gpuType": "T4",
      "provenance": [],
      "toc_visible": true
    },
    "kernelspec": {
      "display_name": "Python 3",
      "name": "python3"
    },
    "language_info": {
      "name": "python"
    }
  },
  "nbformat": 4,
  "nbformat_minor": 0
}